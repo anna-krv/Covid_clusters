{
 "cells": [
  {
   "cell_type": "code",
   "execution_count": 1,
   "metadata": {},
   "outputs": [],
   "source": [
    "import branca\n",
    "import clusters_builder\n",
    "import folium\n",
    "import json\n",
    "import importlib\n",
    "from matplotlib import pyplot as plt\n",
    "import pandas as pd\n",
    "import selenium.webdriver"
   ]
  },
  {
   "cell_type": "code",
   "execution_count": 2,
   "metadata": {},
   "outputs": [],
   "source": [
    "def my_color_function(feature, df_dict, colorscale):\n",
    "    if not feature['properties']['geoid']  in df_dict:\n",
    "        return '#ffffff'\n",
    "    return colorscale(df_dict[feature['properties']['geoid']])"
   ]
  },
  {
   "cell_type": "code",
   "execution_count": 3,
   "metadata": {},
   "outputs": [],
   "source": [
    "def create_colorscale(n):\n",
    "    colorscale=branca.colormap.linear.YlOrRd_09.scale(0,n)\n",
    "    if n>1:\n",
    "        colorscale=colorscale.to_step(index=[i for i in range(n+1)])\n",
    "    colorscale.caption='Cluster id'\n",
    "    return colorscale"
   ]
  },
  {
   "cell_type": "code",
   "execution_count": 4,
   "metadata": {},
   "outputs": [],
   "source": [
    "def get_geo_json():\n",
    "    path='data/us-county-boundaries.geojson'\n",
    "    with open(path) as boundaries:\n",
    "        geo_json = json.load(boundaries)\n",
    "        for i in range(len(geo_json['features'])):\n",
    "            for name in ['Confirmed', 'Deaths']:\n",
    "                geo_json['features'][i]['properties'][name]=0\n",
    "        return geo_json"
   ]
  },
  {
   "cell_type": "code",
   "execution_count": 5,
   "metadata": {},
   "outputs": [],
   "source": [
    "geo_json=get_geo_json()"
   ]
  },
  {
   "cell_type": "code",
   "execution_count": 6,
   "metadata": {},
   "outputs": [],
   "source": [
    "def modify_geo_json(geo_json, data):\n",
    "    for i in range(len(geo_json['features'])):\n",
    "            geoid=int('840'+geo_json['features'][i]['properties']['geoid'])\n",
    "            for name in ['Confirmed', 'Deaths']:\n",
    "                if geoid in data['UID'].values:\n",
    "                        geo_json['features'][i]['properties'][name]=\\\n",
    "                        int(data[data['UID']==geoid][name].values[0])"
   ]
  },
  {
   "cell_type": "code",
   "execution_count": 7,
   "metadata": {},
   "outputs": [],
   "source": [
    "def create_map(df_dict, n, date):\n",
    "    colorscale=create_colorscale(n)\n",
    "    m=folium.Map(location=[36, -97], zoomSnap=0.25, zoom_start=4.75, zoom_control=False)#, zoom_start=2,location=[40., 10.],zoom_control=False, max_bounds=True)\n",
    "    folium.GeoJson(\n",
    "        geo_json,\n",
    "        style_function=lambda feature: {\n",
    "            'fillColor': my_color_function(feature, df_dict, colorscale),\n",
    "            'fillOpacity': 1,\n",
    "            'color' : 'black',\n",
    "            'weight' : 0.2\n",
    "            },\n",
    "        name='COVID CLUSTERS',\n",
    "        tooltip=folium.features.GeoJsonTooltip(\n",
    "            fields=['namelsad', 'Confirmed', 'Deaths','stusab'],\n",
    "            aliases=['County', 'Confirmed', 'Deaths', 'state'])\n",
    "        ).add_to(m)\n",
    "    m.add_child(colorscale)\n",
    "    \n",
    "    title_html = '''<head><style> html { overflow-y: hidden; } </style></head>''' \n",
    "    title_html+='''<h1 align=\"center\"><b>{}</b></h3>'''.format(date)   \n",
    "    m.get_root().html.add_child(folium.Element(title_html))\n",
    "    \n",
    "    m.save('html_us/'+date+'.html')"
   ]
  },
  {
   "cell_type": "code",
   "execution_count": 8,
   "metadata": {},
   "outputs": [],
   "source": [
    "def save_as_png(date):\n",
    "    driver = selenium.webdriver.Chrome()\n",
    "    driver.set_window_size(1800, 800)\n",
    "    for date in [date]:\n",
    "        driver.get(\"file:///C:/Users/DELL/Covid_clusters/html_us/\"+date+\".html\")\n",
    "        driver.save_screenshot('pictures_us/'+date+'.png')\n",
    "    driver.quit()"
   ]
  },
  {
   "cell_type": "code",
   "execution_count": 9,
   "metadata": {},
   "outputs": [],
   "source": [
    "def correct_NY_city(df_dict):\n",
    "    NY_ID='36061'\n",
    "    GEO_ID_NY=['36005', '36081', '36047', '36085']\n",
    "    if NY_ID in df_dict:\n",
    "        NY_cluster=df_dict[NY_ID]\n",
    "        for _id in GEO_ID_NY:\n",
    "            df_dict[_id]=NY_cluster\n",
    "            "
   ]
  },
  {
   "cell_type": "code",
   "execution_count": 10,
   "metadata": {
    "slideshow": {
     "slide_type": "-"
    }
   },
   "outputs": [],
   "source": [
    "def save_map(builder,date):\n",
    "    weights, clusters=builder.get_clusters(date)\n",
    "    plt.hist(weights)\n",
    "    plt.show()\n",
    "    print([len(x) for x in clusters])\n",
    "    print([x for x in clusters if len(x)<10])\n",
    "    data=builder.loader.data_all_days.loc[builder.loader.data_all_days['Date']==date].copy()\n",
    "    n_clust=len(clusters)   \n",
    "    \n",
    "    df_dict={str(admin_unit[0])[3:]:i+1 for i in range(n_clust) for admin_unit in clusters[i]}\n",
    "    correct_NY_city(df_dict)\n",
    "    \n",
    "    modify_geo_json(geo_json, data)\n",
    "    #create_map(df_dict, n_clust, date)\n",
    "    #save_as_png(date)\n",
    "    "
   ]
  },
  {
   "cell_type": "code",
   "execution_count": 19,
   "metadata": {},
   "outputs": [
    {
     "name": "stdout",
     "output_type": "stream",
     "text": [
      "438\n",
      "edges\n",
      "MST\n",
      "clust\n",
      "[434, 1, 1, 1, 1]\n",
      "[{(84053033, 'King, Washington, US')}, {(84036059, 'Nassau, New York, US')}, {(84036119, 'Westchester, New York, US')}, {(84036061, 'New York City, New York, US')}]\n"
     ]
    }
   ],
   "source": [
    "importlib.reload(clusters_builder)\n",
    "#importlib.reload(inspection)\n",
    "date='24.03.20'\n",
    "builder=clusters_builder.Clusters_Builder()\n",
    "\n",
    "weights, clusters=builder.get_clusters(date)\n",
    "print([len(x) for x in clusters])\n",
    "print([x for x in clusters if len(x)<10])\n",
    "#plt.hist(weights)\n",
    "#plt.show()\n",
    "#"
   ]
  },
  {
   "cell_type": "code",
   "execution_count": 12,
   "metadata": {},
   "outputs": [],
   "source": [
    "'''\n",
    "DANGEROUS DO NOT PRESS IF NOT REALLY NEEDED\n",
    "'''\n",
    "date='28.06.20'\n",
    "#save_map(builder, date)"
   ]
  },
  {
   "cell_type": "code",
   "execution_count": 13,
   "metadata": {},
   "outputs": [],
   "source": [
    "#save_as_png(date)"
   ]
  },
  {
   "cell_type": "code",
   "execution_count": null,
   "metadata": {},
   "outputs": [],
   "source": []
  }
 ],
 "metadata": {
  "kernelspec": {
   "display_name": "Python 3",
   "language": "python",
   "name": "python3"
  },
  "language_info": {
   "codemirror_mode": {
    "name": "ipython",
    "version": 3
   },
   "file_extension": ".py",
   "mimetype": "text/x-python",
   "name": "python",
   "nbconvert_exporter": "python",
   "pygments_lexer": "ipython3",
   "version": "3.8.3"
  }
 },
 "nbformat": 4,
 "nbformat_minor": 4
}
