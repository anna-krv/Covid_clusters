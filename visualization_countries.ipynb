{
 "cells": [
  {
   "cell_type": "code",
   "execution_count": 1,
   "metadata": {},
   "outputs": [],
   "source": [
    "import branca\n",
    "import clusters_builder\n",
    "from geopy.geocoders import Nominatim\n",
    "import folium\n",
    "from folium.plugins import MarkerCluster\n",
    "import importlib\n",
    "import json\n",
    "import numpy as np\n",
    "import pandas as pd\n",
    "from pycountry_convert import country_alpha2_to_continent_code, country_name_to_country_alpha2\n",
    "import requests\n",
    "import selenium.webdriver\n",
    "from matplotlib import pyplot as plt"
   ]
  },
  {
   "cell_type": "code",
   "execution_count": 2,
   "metadata": {},
   "outputs": [],
   "source": [
    "def validate_country_name(df, col_name):\n",
    "    # according to https://raw.githubusercontent.com/python-visualization/folium/master/examples/data/world-countries.json\n",
    "    df.loc[df[col_name]=='US',col_name]='United States of America'\n",
    "    df.loc[df[col_name]=='Congo (Kinshasa)',col_name]='Republic of the Congo'\n",
    "    df.loc[df[col_name]=='Congo (Brazzaville)',col_name]='Democratic Republic of the Congo'\n",
    "    df.loc[df[col_name]=='Serbia',col_name]='Republic of Serbia'\n",
    "    df.loc[df[col_name]=='Czechia',col_name]='Czech Republic'\n",
    "    df.loc[df[col_name]=='Taiwan*',col_name]='Taiwan'\n",
    "    df.loc[df[col_name]=='North Macedonia',col_name]='Macedonia'"
   ]
  },
  {
   "cell_type": "code",
   "execution_count": 3,
   "metadata": {},
   "outputs": [],
   "source": [
    "def my_color_function(feature, df_dict, colorscale):\n",
    "    if not feature['properties']['ADMIN']  in df_dict:\n",
    "        return '#ffffff'\n",
    "    return colorscale(df_dict[feature['properties']['ADMIN']])"
   ]
  },
  {
   "cell_type": "code",
   "execution_count": 4,
   "metadata": {},
   "outputs": [],
   "source": [
    "def create_colorscale(n):\n",
    "    colorscale=branca.colormap.linear.YlOrRd_09.scale(0,n)\n",
    "    colorscale=colorscale.to_step(index=[i for i in range(n+1)])\n",
    "    colorscale.caption='Cluster id'\n",
    "    return colorscale"
   ]
  },
  {
   "cell_type": "code",
   "execution_count": 5,
   "metadata": {},
   "outputs": [],
   "source": [
    "def get_geo_json(clean_data):\n",
    "    country_shapes='https://raw.githubusercontent.com/datasets/geo-countries/master/data/countries.geojson'\n",
    "    geo_json=json.loads(requests.get(country_shapes).text)\n",
    "    for i in range(len(geo_json['features'])):\n",
    "        name=geo_json['features'][i]['properties']['ADMIN']\n",
    "        for column_name in ['New cases', 'New deaths', 'New recovered']:\n",
    "            geo_json['features'][i]['properties'][column_name]=0\n",
    "            if name in clean_data['Country/Region'].values:\n",
    "                geo_json['features'][i]['properties'][column_name]=\\\n",
    "                int(clean_data[clean_data['Country/Region']==name][column_name].values[0])\n",
    "        \n",
    "    return geo_json"
   ]
  },
  {
   "cell_type": "code",
   "execution_count": 6,
   "metadata": {},
   "outputs": [],
   "source": [
    "def create_map(geo_json,df_dict, n, date):\n",
    "    colorscale=create_colorscale(n)\n",
    "    m=folium.Map(tiles=\"cartodbpositron\", zoom_start=2,location=[40., 10.],zoom_control=False, max_bounds=True)\n",
    "    folium.GeoJson(\n",
    "        geo_json,\n",
    "        style_function=lambda feature: {\n",
    "            'fillColor': my_color_function(feature, df_dict, colorscale),\n",
    "            'fillOpacity': 1,\n",
    "            'color' : 'black',\n",
    "            'weight' : 1,\n",
    "            'dashArray' : '1,1'\n",
    "            },\n",
    "        name='COVID CLUSTERS',\n",
    "        tooltip=folium.features.GeoJsonTooltip(\n",
    "            fields=['ADMIN', 'New cases', 'New deaths', 'New recovered'],\n",
    "            aliases=['Country', 'New cases', 'New deaths', 'New recovered'])\n",
    "        ).add_to(m)\n",
    "    m.add_child(colorscale)\n",
    "    \n",
    "    \n",
    "    title_html = '''\n",
    "                 <h3 align=\"center\" style=\"font-size:12px\"><b>{}</b></h3>\n",
    "                 '''.format(date)   \n",
    "    m.get_root().html.add_child(folium.Element(title_html))\n",
    "    \n",
    "    m.save('covid.html')"
   ]
  },
  {
   "cell_type": "code",
   "execution_count": 7,
   "metadata": {},
   "outputs": [],
   "source": [
    "def save_as_png(date):\n",
    "    driver = selenium.webdriver.Chrome()\n",
    "    driver.get(\"file:///C:/Users/DELL/Covid_clusters/covid.html\")\n",
    "    driver.save_screenshot('pictures.v2/'+date+'.png')\n",
    "    driver.quit()"
   ]
  },
  {
   "cell_type": "code",
   "execution_count": 8,
   "metadata": {},
   "outputs": [],
   "source": [
    "def save_map(builder,date):\n",
    "    clusters=builder.get_clusters(date)\n",
    "    print([len(x) for x in clusters])\n",
    "    print([x for x in clusters if len(x)<10])\n",
    "    clean_data=builder.data_all_days.loc[builder.data_all_days['Date']==date].copy()\n",
    "    n=len(clusters)\n",
    "    \n",
    "    rows=[[country,i+1] for i in range(n) for country in clusters[i]]\n",
    "    clusters_dict={_id: rows[_id] for _id in range(builder.n_vert) }\n",
    "    \n",
    "    df=pd.DataFrame.from_dict(clusters_dict,orient='index', columns=['CountryName', 'Cluster'])\n",
    "\n",
    "    validate_country_name(df,'CountryName')\n",
    "    validate_country_name(clean_data, 'Country/Region')\n",
    "    df_dict=df.set_index('CountryName')['Cluster']\n",
    "    geo_json=get_geo_json(clean_data)\n",
    "    create_map(geo_json, df_dict, n, date)\n",
    "    save_as_png(date)"
   ]
  },
  {
   "cell_type": "code",
   "execution_count": 9,
   "metadata": {},
   "outputs": [
    {
     "name": "stdout",
     "output_type": "stream",
     "text": [
      "[179, 1, 3, 1, 1, 1, 1]\n"
     ]
    },
    {
     "data": {
      "image/png": "[encoded data removed]",
      "text/plain": [
       "<Figure size 432x288 with 1 Axes>"
      ]
     },
     "metadata": {
      "needs_background": "light"
     },
     "output_type": "display_data"
    }
   ],
   "source": [
    "importlib.reload(clusters_builder)\n",
    "n=5\n",
    "builder=clusters_builder.Clusters_Builder()\n",
    "date='2020-06-11'\n",
    "weights, clusters=builder.get_clusters(date)\n",
    "print([len(x) for x in clusters])\n",
    "plt.hist(weights)\n",
    "plt.show()\n",
    "#save_map(builder, date)"
   ]
  },
  {
   "cell_type": "code",
   "execution_count": 15,
   "metadata": {
    "scrolled": true
   },
   "outputs": [
    {
     "data": {
      "image/png": "[encoded data removed]",
      "text/plain": [
       "<Figure size 432x288 with 1 Axes>"
      ]
     },
     "metadata": {
      "needs_background": "light"
     },
     "output_type": "display_data"
    }
   ],
   "source": [
    "plt.hist(weights, bins=[0.125*i/4 for i in range(1,38)])\n",
    "plt.show()"
   ]
  },
  {
   "cell_type": "code",
   "execution_count": 37,
   "metadata": {},
   "outputs": [
    {
     "data": {
      "text/plain": [
       "0.20005774347750788"
      ]
     },
     "execution_count": 37,
     "metadata": {},
     "output_type": "execute_result"
    }
   ],
   "source": [
    "np.mean(weights)"
   ]
  },
  {
   "cell_type": "code",
   "execution_count": 41,
   "metadata": {},
   "outputs": [
    {
     "name": "stdout",
     "output_type": "stream",
     "text": [
      "#ff0000ff #ff0000ff #ff0000ff #ffff00ff\n"
     ]
    }
   ],
   "source": [
    "colorscale=branca.colormap.StepColormap(colors={'yellow','red'}, vmin=0, vmax=5)\n",
    "print(colorscale(0),colorscale(1), colorscale(2), colorscale(3))\n"
   ]
  },
  {
   "cell_type": "code",
   "execution_count": 9,
   "metadata": {
    "scrolled": true
   },
   "outputs": [
    {
     "name": "stdout",
     "output_type": "stream",
     "text": [
      "[180, 4, 1, 1, 1]\n",
      "2020-01-22\n",
      "[3, 180, 2, 1, 1]\n",
      "2020-01-23\n",
      "[180, 1, 1, 4, 1]\n",
      "2020-01-24\n",
      "[180, 2, 3, 1, 1]\n",
      "2020-01-25\n",
      "[182, 1, 1, 2, 1]\n",
      "2020-01-26\n",
      "[179, 1, 1, 5, 1]\n",
      "2020-01-27\n",
      "[181, 1, 3, 1, 1]\n",
      "2020-01-28\n",
      "[180, 1, 3, 2, 1]\n",
      "2020-01-29\n",
      "[183, 1, 1, 1, 1]\n",
      "2020-01-30\n",
      "[183, 1, 1, 1, 1]\n",
      "2020-01-31\n",
      "[181, 3, 1, 1, 1]\n",
      "2020-02-01\n",
      "[180, 1, 4, 1, 1]\n",
      "2020-02-02\n",
      "[180, 2, 3, 1, 1]\n",
      "2020-02-03\n",
      "[178, 4, 2, 2, 1]\n",
      "2020-02-04\n",
      "[180, 4, 1, 1, 1]\n",
      "2020-02-05\n",
      "[180, 4, 1, 1, 1]\n",
      "2020-02-06\n",
      "[1, 182, 1, 2, 1]\n",
      "2020-02-07\n",
      "[1, 183, 1, 1, 1]\n",
      "2020-02-08\n",
      "[1, 183, 1, 1, 1]\n",
      "2020-02-09\n",
      "[180, 4, 1, 1, 1]\n",
      "2020-02-10\n",
      "[1, 182, 2, 1, 1]\n",
      "2020-02-11\n",
      "[1, 176, 8, 1, 1]\n",
      "2020-02-12\n",
      "[1, 180, 4, 1, 1]\n",
      "2020-02-13\n",
      "[180, 4, 1, 1, 1]\n",
      "2020-02-14\n",
      "[182, 1, 2, 1, 1]\n",
      "2020-02-15\n",
      "[1, 180, 1, 4, 1]\n",
      "2020-02-16\n",
      "[180, 4, 1, 1, 1]\n",
      "2020-02-17\n",
      "[180, 1, 4, 1, 1]\n",
      "2020-02-18\n",
      "[180, 4, 1, 1, 1]\n",
      "2020-02-19\n",
      "[180, 4, 1, 1, 1]\n",
      "2020-02-20\n",
      "[180, 3, 1, 2, 1]\n",
      "2020-02-21\n",
      "[180, 4, 1, 1, 1]\n",
      "2020-02-22\n",
      "[180, 1, 1, 4, 1]\n",
      "2020-02-23\n",
      "[182, 2, 1, 1, 1]\n",
      "2020-02-24\n",
      "[180, 4, 1, 1, 1]\n",
      "2020-02-25\n",
      "[180, 4, 1, 1, 1]\n",
      "2020-02-26\n",
      "[182, 1, 2, 1, 1]\n",
      "2020-02-27\n",
      "[182, 1, 2, 1, 1]\n",
      "2020-02-28\n",
      "[181, 2, 2, 1, 1]\n",
      "2020-02-29\n",
      "[2, 181, 1, 1, 2]\n",
      "2020-03-01\n",
      "[181, 2, 1, 1, 2]\n",
      "2020-03-02\n",
      "[183, 1, 1, 1, 1]\n",
      "2020-03-03\n",
      "[182, 1, 1, 2, 1]\n",
      "2020-03-04\n",
      "[180, 1, 4, 1, 1]\n",
      "2020-03-05\n",
      "[180, 1, 4, 1, 1]\n",
      "2020-03-06\n",
      "[180, 1, 4, 1, 1]\n",
      "2020-03-07\n",
      "[180, 1, 4, 1, 1]\n",
      "2020-03-08\n",
      "[180, 1, 4, 1, 1]\n",
      "2020-03-09\n",
      "[181, 1, 3, 1, 1]\n",
      "2020-03-10\n",
      "[183, 1, 1, 1, 1]\n",
      "2020-03-11\n",
      "[181, 1, 3, 1, 1]\n",
      "2020-03-12\n",
      "[1, 180, 4, 1, 1]\n",
      "2020-03-13\n",
      "[180, 1, 3, 2, 1]\n",
      "2020-03-14\n"
     ]
    }
   ],
   "source": [
    "importlib.reload(clusters_builder)\n",
    "n=5\n",
    "builder=clusters_builder.Clusters_Builder(n_clusters=n)\n",
    "dates=sorted(list(set(builder.data_all_days['Date'].values)))\n",
    "for date in dates:\n",
    "    #if date<'2020-03-15':\n",
    "     #   continue\n",
    "    save_map(builder, date)\n",
    "    print(date)\n",
    "    if date>='2020-03-14':\n",
    "        break"
   ]
  },
  {
   "cell_type": "markdown",
   "metadata": {},
   "source": [
    "# TESTING"
   ]
  },
  {
   "cell_type": "code",
   "execution_count": 91,
   "metadata": {},
   "outputs": [
    {
     "name": "stdout",
     "output_type": "stream",
     "text": [
      "187\n",
      "built edge list\n",
      "have clusters\n"
     ]
    }
   ],
   "source": [
    "clusters=builder.get_clusters('2020-02-01')"
   ]
  },
  {
   "cell_type": "code",
   "execution_count": 97,
   "metadata": {},
   "outputs": [],
   "source": [
    "date='2020-02-01'\n",
    "clean_data=builder.data_all_days.loc[builder.data_all_days['Date']==date].copy()\n",
    "clusters=sorted(clusters, key=lambda my_set: clean_data[clean_data['Country/Region'].isin(my_set)]['New cases'].mean())"
   ]
  },
  {
   "cell_type": "code",
   "execution_count": 1,
   "metadata": {},
   "outputs": [],
   "source": [
    "#clusters_dict={_id: rows[_id] for _id in range(builder.n_vert) }"
   ]
  },
  {
   "cell_type": "code",
   "execution_count": 3,
   "metadata": {},
   "outputs": [
    {
     "data": {
      "text/plain": [
       "2.6666666666666665"
      ]
     },
     "execution_count": 3,
     "metadata": {},
     "output_type": "execute_result"
    }
   ],
   "source": [
    "import numpy as np\n",
    "l=np.array([1,3,4])\n",
    "np.mean(l)"
   ]
  },
  {
   "cell_type": "code",
   "execution_count": 4,
   "metadata": {},
   "outputs": [
    {
     "data": {
      "text/plain": [
       "2"
      ]
     },
     "execution_count": 4,
     "metadata": {},
     "output_type": "execute_result"
    }
   ],
   "source": [
    "np.sum(l>2)"
   ]
  },
  {
   "cell_type": "code",
   "execution_count": 5,
   "metadata": {},
   "outputs": [
    {
     "data": {
      "text/plain": [
       "4"
      ]
     },
     "execution_count": 5,
     "metadata": {},
     "output_type": "execute_result"
    }
   ],
   "source": [
    "l[-1]"
   ]
  },
  {
   "cell_type": "code",
   "execution_count": null,
   "metadata": {},
   "outputs": [],
   "source": []
  }
 ],
 "metadata": {
  "kernelspec": {
   "display_name": "Python 3",
   "language": "python",
   "name": "python3"
  },
  "language_info": {
   "codemirror_mode": {
    "name": "ipython",
    "version": 3
   },
   "file_extension": ".py",
   "mimetype": "text/x-python",
   "name": "python",
   "nbconvert_exporter": "python",
   "pygments_lexer": "ipython3",
   "version": "3.8.3"
  }
 },
 "nbformat": 4,
 "nbformat_minor": 4
}
