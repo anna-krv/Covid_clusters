{
 "cells": [
  {
   "cell_type": "code",
   "execution_count": 1,
   "metadata": {},
   "outputs": [],
   "source": [
    "import branca\n",
    "import clusters_builder\n",
    "from geopy.geocoders import Nominatim\n",
    "import folium\n",
    "from folium.plugins import MarkerCluster\n",
    "import importlib\n",
    "import json\n",
    "import numpy as np\n",
    "import pandas as pd\n",
    "from pycountry_convert import country_alpha2_to_continent_code, country_name_to_country_alpha2\n",
    "import requests\n",
<<<<<<< HEAD
    "import selenium.webdriver\n",
    "from matplotlib import pyplot as plt"
=======
    "import selenium.webdriver"
>>>>>>> 0e4759a36668d09f016dc3aabd8bb877756b88e1
   ]
  },
  {
   "cell_type": "code",
   "execution_count": 2,
   "metadata": {},
   "outputs": [],
   "source": [
    "def validate_country_name(df, col_name):\n",
    "    # according to https://raw.githubusercontent.com/python-visualization/folium/master/examples/data/world-countries.json\n",
    "    df.loc[df[col_name]=='US',col_name]='United States of America'\n",
    "    df.loc[df[col_name]=='Congo (Kinshasa)',col_name]='Republic of the Congo'\n",
    "    df.loc[df[col_name]=='Congo (Brazzaville)',col_name]='Democratic Republic of the Congo'\n",
    "    df.loc[df[col_name]=='Serbia',col_name]='Republic of Serbia'\n",
    "    df.loc[df[col_name]=='Czechia',col_name]='Czech Republic'\n",
    "    df.loc[df[col_name]=='Taiwan*',col_name]='Taiwan'\n",
    "    df.loc[df[col_name]=='North Macedonia',col_name]='Macedonia'"
   ]
  },
  {
   "cell_type": "code",
   "execution_count": 3,
   "metadata": {},
   "outputs": [],
   "source": [
    "def my_color_function(feature, df_dict, colorscale):\n",
    "    if not feature['properties']['ADMIN']  in df_dict:\n",
    "        return '#ffffff'\n",
    "    return colorscale(df_dict[feature['properties']['ADMIN']])"
   ]
  },
  {
   "cell_type": "code",
   "execution_count": 4,
   "metadata": {},
   "outputs": [],
   "source": [
    "def create_colorscale(n):\n",
    "    colorscale=branca.colormap.linear.YlOrRd_09.scale(0,n)\n",
<<<<<<< HEAD
    "    colorscale=colorscale.to_step(index=[i for i in range(n+1)])\n",
=======
    "    colorscale=colorscale.to_step(n)\n",
>>>>>>> 0e4759a36668d09f016dc3aabd8bb877756b88e1
    "    colorscale.caption='Cluster id'\n",
    "    return colorscale"
   ]
  },
  {
   "cell_type": "code",
   "execution_count": 5,
   "metadata": {},
   "outputs": [],
   "source": [
    "def get_geo_json(clean_data):\n",
    "    country_shapes='https://raw.githubusercontent.com/datasets/geo-countries/master/data/countries.geojson'\n",
    "    geo_json=json.loads(requests.get(country_shapes).text)\n",
    "    for i in range(len(geo_json['features'])):\n",
    "        name=geo_json['features'][i]['properties']['ADMIN']\n",
    "        for column_name in ['New cases', 'New deaths', 'New recovered']:\n",
    "            geo_json['features'][i]['properties'][column_name]=0\n",
    "            if name in clean_data['Country/Region'].values:\n",
    "                geo_json['features'][i]['properties'][column_name]=\\\n",
    "                int(clean_data[clean_data['Country/Region']==name][column_name].values[0])\n",
    "        \n",
    "    return geo_json"
   ]
  },
  {
   "cell_type": "code",
   "execution_count": 6,
   "metadata": {},
   "outputs": [],
   "source": [
    "def create_map(geo_json,df_dict, n, date):\n",
    "    colorscale=create_colorscale(n)\n",
    "    m=folium.Map(tiles=\"cartodbpositron\", zoom_start=2,location=[40., 10.],zoom_control=False, max_bounds=True)\n",
    "    folium.GeoJson(\n",
    "        geo_json,\n",
    "        style_function=lambda feature: {\n",
    "            'fillColor': my_color_function(feature, df_dict, colorscale),\n",
<<<<<<< HEAD
    "            'fillOpacity': 1,\n",
=======
    "            'fillOpacity': 0.9,\n",
>>>>>>> 0e4759a36668d09f016dc3aabd8bb877756b88e1
    "            'color' : 'black',\n",
    "            'weight' : 1,\n",
    "            'dashArray' : '1,1'\n",
    "            },\n",
    "        name='COVID CLUSTERS',\n",
    "        tooltip=folium.features.GeoJsonTooltip(\n",
    "            fields=['ADMIN', 'New cases', 'New deaths', 'New recovered'],\n",
    "            aliases=['Country', 'New cases', 'New deaths', 'New recovered'])\n",
    "        ).add_to(m)\n",
    "    m.add_child(colorscale)\n",
    "    \n",
    "    \n",
    "    title_html = '''\n",
    "                 <h3 align=\"center\" style=\"font-size:12px\"><b>{}</b></h3>\n",
    "                 '''.format(date)   \n",
    "    m.get_root().html.add_child(folium.Element(title_html))\n",
    "    \n",
    "    m.save('covid.html')"
   ]
  },
  {
   "cell_type": "code",
   "execution_count": 7,
   "metadata": {},
   "outputs": [],
   "source": [
    "def save_as_png(date):\n",
    "    driver = selenium.webdriver.Chrome()\n",
    "    driver.get(\"file:///C:/Users/DELL/Covid_clusters/covid.html\")\n",
    "    driver.save_screenshot('pictures.v2/'+date+'.png')\n",
    "    driver.quit()"
   ]
  },
  {
   "cell_type": "code",
   "execution_count": 8,
   "metadata": {},
   "outputs": [],
   "source": [
<<<<<<< HEAD
    "def save_map(builder,date):\n",
    "    clusters=builder.get_clusters(date)\n",
    "    print([len(x) for x in clusters])\n",
    "    print([x for x in clusters if len(x)<10])\n",
    "    clean_data=builder.data_all_days.loc[builder.data_all_days['Date']==date].copy()\n",
    "    n=len(clusters)\n",
    "    \n",
    "    rows=[[country,i+1] for i in range(n) for country in clusters[i]]\n",
=======
    "def save_map(builder,date, n):\n",
    "    clusters=builder.get_clusters(date)\n",
    "    print([len(x) for x in clusters])\n",
    "    clean_data=builder.data_all_days.loc[builder.data_all_days['Date']==date].copy()\n",
    "    \n",
    "    rows=[[country,i] for i in range(n) for country in clusters[i]]\n",
>>>>>>> 0e4759a36668d09f016dc3aabd8bb877756b88e1
    "    clusters_dict={_id: rows[_id] for _id in range(builder.n_vert) }\n",
    "    \n",
    "    df=pd.DataFrame.from_dict(clusters_dict,orient='index', columns=['CountryName', 'Cluster'])\n",
    "\n",
    "    validate_country_name(df,'CountryName')\n",
    "    validate_country_name(clean_data, 'Country/Region')\n",
    "    df_dict=df.set_index('CountryName')['Cluster']\n",
    "    geo_json=get_geo_json(clean_data)\n",
    "    create_map(geo_json, df_dict, n, date)\n",
    "    save_as_png(date)"
   ]
  },
  {
   "cell_type": "code",
   "execution_count": 9,
<<<<<<< HEAD
   "metadata": {},
   "outputs": [
    {
     "name": "stdout",
     "output_type": "stream",
     "text": [
      "[179, 1, 3, 1, 1, 1, 1]\n"
     ]
    },
    {
     "data": {
      "image/png": "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\n",
      "text/plain": [
       "<Figure size 432x288 with 1 Axes>"
      ]
     },
     "metadata": {
      "needs_background": "light"
     },
     "output_type": "display_data"
    }
   ],
   "source": [
    "importlib.reload(clusters_builder)\n",
    "n=5\n",
    "builder=clusters_builder.Clusters_Builder()\n",
    "date='2020-06-11'\n",
    "weights, clusters=builder.get_clusters(date)\n",
    "print([len(x) for x in clusters])\n",
    "plt.hist(weights)\n",
    "plt.show()\n",
    "#save_map(builder, date)"
   ]
  },
  {
   "cell_type": "code",
   "execution_count": 15,
   "metadata": {
    "scrolled": true
   },
   "outputs": [
    {
     "data": {
      "image/png": "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\n",
      "text/plain": [
       "<Figure size 432x288 with 1 Axes>"
      ]
     },
     "metadata": {
      "needs_background": "light"
     },
     "output_type": "display_data"
    }
   ],
   "source": [
    "plt.hist(weights, bins=[0.125*i/4 for i in range(1,38)])\n",
    "plt.show()"
   ]
  },
  {
   "cell_type": "code",
   "execution_count": 37,
   "metadata": {},
   "outputs": [
    {
     "data": {
      "text/plain": [
       "0.20005774347750788"
      ]
     },
     "execution_count": 37,
     "metadata": {},
     "output_type": "execute_result"
    }
   ],
   "source": [
    "np.mean(weights)"
   ]
  },
  {
   "cell_type": "code",
   "execution_count": 41,
   "metadata": {},
   "outputs": [
    {
     "name": "stdout",
     "output_type": "stream",
     "text": [
      "#ff0000ff #ff0000ff #ff0000ff #ffff00ff\n"
     ]
    }
   ],
   "source": [
    "colorscale=branca.colormap.StepColormap(colors={'yellow','red'}, vmin=0, vmax=5)\n",
    "print(colorscale(0),colorscale(1), colorscale(2), colorscale(3))\n"
   ]
  },
  {
   "cell_type": "code",
   "execution_count": 9,
=======
>>>>>>> 0e4759a36668d09f016dc3aabd8bb877756b88e1
   "metadata": {
    "scrolled": true
   },
   "outputs": [
    {
     "name": "stdout",
     "output_type": "stream",
     "text": [
      "[180, 4, 1, 1, 1]\n",
      "2020-01-22\n",
      "[3, 180, 2, 1, 1]\n",
      "2020-01-23\n",
      "[180, 1, 1, 4, 1]\n",
      "2020-01-24\n",
      "[180, 2, 3, 1, 1]\n",
      "2020-01-25\n",
      "[182, 1, 1, 2, 1]\n",
      "2020-01-26\n",
      "[179, 1, 1, 5, 1]\n",
      "2020-01-27\n",
      "[181, 1, 3, 1, 1]\n",
      "2020-01-28\n",
      "[180, 1, 3, 2, 1]\n",
      "2020-01-29\n",
      "[183, 1, 1, 1, 1]\n",
      "2020-01-30\n",
      "[183, 1, 1, 1, 1]\n",
      "2020-01-31\n",
      "[181, 3, 1, 1, 1]\n",
      "2020-02-01\n",
      "[180, 1, 4, 1, 1]\n",
      "2020-02-02\n",
      "[180, 2, 3, 1, 1]\n",
      "2020-02-03\n",
      "[178, 4, 2, 2, 1]\n",
      "2020-02-04\n",
      "[180, 4, 1, 1, 1]\n",
      "2020-02-05\n",
      "[180, 4, 1, 1, 1]\n",
      "2020-02-06\n",
      "[1, 182, 1, 2, 1]\n",
      "2020-02-07\n",
      "[1, 183, 1, 1, 1]\n",
      "2020-02-08\n",
      "[1, 183, 1, 1, 1]\n",
      "2020-02-09\n",
      "[180, 4, 1, 1, 1]\n",
      "2020-02-10\n",
      "[1, 182, 2, 1, 1]\n",
      "2020-02-11\n",
      "[1, 176, 8, 1, 1]\n",
      "2020-02-12\n",
      "[1, 180, 4, 1, 1]\n",
      "2020-02-13\n",
      "[180, 4, 1, 1, 1]\n",
      "2020-02-14\n",
      "[182, 1, 2, 1, 1]\n",
      "2020-02-15\n",
      "[1, 180, 1, 4, 1]\n",
      "2020-02-16\n",
      "[180, 4, 1, 1, 1]\n",
      "2020-02-17\n",
      "[180, 1, 4, 1, 1]\n",
      "2020-02-18\n",
      "[180, 4, 1, 1, 1]\n",
      "2020-02-19\n",
      "[180, 4, 1, 1, 1]\n",
      "2020-02-20\n",
      "[180, 3, 1, 2, 1]\n",
      "2020-02-21\n",
      "[180, 4, 1, 1, 1]\n",
      "2020-02-22\n",
      "[180, 1, 1, 4, 1]\n",
      "2020-02-23\n",
      "[182, 2, 1, 1, 1]\n",
      "2020-02-24\n",
      "[180, 4, 1, 1, 1]\n",
      "2020-02-25\n",
      "[180, 4, 1, 1, 1]\n",
      "2020-02-26\n",
      "[182, 1, 2, 1, 1]\n",
      "2020-02-27\n",
      "[182, 1, 2, 1, 1]\n",
      "2020-02-28\n",
      "[181, 2, 2, 1, 1]\n",
      "2020-02-29\n",
      "[2, 181, 1, 1, 2]\n",
      "2020-03-01\n",
      "[181, 2, 1, 1, 2]\n",
      "2020-03-02\n",
      "[183, 1, 1, 1, 1]\n",
      "2020-03-03\n",
      "[182, 1, 1, 2, 1]\n",
      "2020-03-04\n",
      "[180, 1, 4, 1, 1]\n",
      "2020-03-05\n",
      "[180, 1, 4, 1, 1]\n",
      "2020-03-06\n",
      "[180, 1, 4, 1, 1]\n",
      "2020-03-07\n",
      "[180, 1, 4, 1, 1]\n",
      "2020-03-08\n",
      "[180, 1, 4, 1, 1]\n",
      "2020-03-09\n",
      "[181, 1, 3, 1, 1]\n",
      "2020-03-10\n",
      "[183, 1, 1, 1, 1]\n",
      "2020-03-11\n",
      "[181, 1, 3, 1, 1]\n",
      "2020-03-12\n",
      "[1, 180, 4, 1, 1]\n",
      "2020-03-13\n",
      "[180, 1, 3, 2, 1]\n",
      "2020-03-14\n"
     ]
    }
   ],
   "source": [
    "importlib.reload(clusters_builder)\n",
    "n=5\n",
    "builder=clusters_builder.Clusters_Builder(n_clusters=n)\n",
    "dates=sorted(list(set(builder.data_all_days['Date'].values)))\n",
    "for date in dates:\n",
    "    #if date<'2020-03-15':\n",
    "     #   continue\n",
<<<<<<< HEAD
    "    save_map(builder, date)\n",
=======
    "    save_map(builder, date, n)\n",
>>>>>>> 0e4759a36668d09f016dc3aabd8bb877756b88e1
    "    print(date)\n",
    "    if date>='2020-03-14':\n",
    "        break"
   ]
  },
  {
   "cell_type": "markdown",
   "metadata": {},
   "source": [
    "# TESTING"
   ]
  },
  {
   "cell_type": "code",
   "execution_count": 91,
   "metadata": {},
   "outputs": [
    {
     "name": "stdout",
     "output_type": "stream",
     "text": [
      "187\n",
      "built edge list\n",
      "have clusters\n"
     ]
    }
   ],
   "source": [
    "clusters=builder.get_clusters('2020-02-01')"
   ]
  },
  {
   "cell_type": "code",
   "execution_count": 97,
   "metadata": {},
   "outputs": [],
   "source": [
    "date='2020-02-01'\n",
    "clean_data=builder.data_all_days.loc[builder.data_all_days['Date']==date].copy()\n",
    "clusters=sorted(clusters, key=lambda my_set: clean_data[clean_data['Country/Region'].isin(my_set)]['New cases'].mean())"
   ]
  },
  {
   "cell_type": "code",
<<<<<<< HEAD
   "execution_count": 1,
   "metadata": {},
   "outputs": [],
   "source": [
    "#clusters_dict={_id: rows[_id] for _id in range(builder.n_vert) }"
=======
   "execution_count": 101,
   "metadata": {},
   "outputs": [
    {
     "name": "stdout",
     "output_type": "stream",
     "text": [
      "{0: ['Azerbaijan', 0], 1: ['Guinea-Bissau', 0], 2: ['Botswana', 0], 3: ['Finland', 0], 4: ['Greenland', 0], 5: ['Colombia', 0], 6: ['Gabon', 0], 7: ['Dominican Republic', 0], 8: ['Canada', 0], 9: [\"Cote d'Ivoire\", 0], 10: ['Algeria', 0], 11: ['Equatorial Guinea', 0], 12: ['Comoros', 0], 13: ['Haiti', 0], 14: ['Cameroon', 0], 15: ['Hungary', 0], 16: ['Central African Republic', 0], 17: ['Burma', 0], 18: ['Denmark', 0], 19: ['Ecuador', 0], 20: ['Eritrea', 0], 21: ['Albania', 0], 22: ['Bahamas', 0], 23: ['Barbados', 0], 24: ['Armenia', 0], 25: ['Brazil', 0], 26: ['Argentina', 0], 27: ['Croatia', 0], 28: ['Georgia', 0], 29: ['Grenada', 0], 30: ['Egypt', 0], 31: ['Belarus', 0], 32: ['Antigua and Barbuda', 0], 33: ['Cambodia', 0], 34: ['Belize', 0], 35: ['Chile', 0], 36: ['Bahrain', 0], 37: ['Benin', 0], 38: ['Bangladesh', 0], 39: ['Dominica', 0], 40: ['Eswatini', 0], 41: ['Fiji', 0], 42: ['Brunei', 0], 43: ['Afghanistan', 0], 44: ['Costa Rica', 0], 45: ['Greece', 0], 46: ['Chad', 0], 47: ['Honduras', 0], 48: ['Djibouti', 0], 49: ['Cyprus', 0], 50: ['Austria', 0], 51: ['Gambia', 0], 52: ['Ethiopia', 0], 53: ['Guatemala', 0], 54: ['Bosnia and Herzegovina', 0], 55: ['Guinea', 0], 56: ['Burkina Faso', 0], 57: ['Congo (Brazzaville)', 0], 58: ['Guyana', 0], 59: ['Czechia', 0], 60: ['Cuba', 0], 61: ['Holy See', 0], 62: ['Andorra', 0], 63: ['Estonia', 0], 64: ['Angola', 0], 65: ['Burundi', 0], 66: ['Bulgaria', 0], 67: ['Iceland', 0], 68: ['El Salvador', 0], 69: ['Ghana', 0], 70: ['Belgium', 0], 71: ['Bhutan', 0], 72: ['Congo (Kinshasa)', 0], 73: ['Bolivia', 0], 74: ['Cabo Verde', 0], 75: ['Madagascar', 1], 76: ['Qatar', 1], 77: ['Netherlands', 1], 78: ['Slovakia', 1], 79: ['Poland', 1], 80: ['Niger', 1], 81: ['Lithuania', 1], 82: ['Monaco', 1], 83: ['Mauritius', 1], 84: ['Namibia', 1], 85: ['Israel', 1], 86: ['Lesotho', 1], 87: ['Rwanda', 1], 88: ['Liechtenstein', 1], 89: ['Paraguay', 1], 90: ['Nigeria', 1], 91: ['Jamaica', 1], 92: ['Latvia', 1], 93: ['Nicaragua', 1], 94: ['Libya', 1], 95: ['Serbia', 1], 96: ['Portugal', 1], 97: ['Saint Vincent and the Grenadines', 1], 98: ['Maldives', 1], 99: ['South Sudan', 1], 100: ['Moldova', 1], 101: ['Mali', 1], 102: ['Romania', 1], 103: ['Liberia', 1], 104: ['South Africa', 1], 105: ['Malaysia', 1], 106: ['Somalia', 1], 107: ['Saint Kitts and Nevis', 1], 108: ['Philippines', 1], 109: ['Saudi Arabia', 1], 110: ['Sierra Leone', 1], 111: ['Slovenia', 1], 112: ['Sao Tome and Principe', 1], 113: ['Malta', 1], 114: ['New Zealand', 1], 115: ['North Macedonia', 1], 116: ['Mongolia', 1], 117: ['Ireland', 1], 118: ['Peru', 1], 119: ['Iran', 1], 120: ['Indonesia', 1], 121: ['Kenya', 1], 122: ['Montenegro', 1], 123: ['Luxembourg', 1], 124: ['Seychelles', 1], 125: ['Laos', 1], 126: ['Nepal', 1], 127: ['Norway', 1], 128: ['Iraq', 1], 129: ['Oman', 1], 130: ['Panama', 1], 131: ['Russia', 1], 132: ['Senegal', 1], 133: ['Italy', 1], 134: ['Mexico', 1], 135: ['Pakistan', 1], 136: ['Mauritania', 1], 137: ['Kuwait', 1], 138: ['Saint Lucia', 1], 139: ['Malawi', 1], 140: ['Mozambique', 1], 141: ['India', 1], 142: ['Jordan', 1], 143: ['Lebanon', 1], 144: ['Morocco', 1], 145: ['Kazakhstan', 1], 146: ['Kosovo', 1], 147: ['San Marino', 1], 148: ['Kyrgyzstan', 1], 149: ['Papua New Guinea', 1], 150: ['Tanzania', 2], 151: ['Sweden', 2], 152: ['Spain', 2], 153: ['Venezuela', 2], 154: ['Taiwan*', 2], 155: ['Zimbabwe', 2], 156: ['Sri Lanka', 2], 157: ['Uganda', 2], 158: ['Ukraine', 2], 159: ['Australia', 2], 160: ['Suriname', 2], 161: ['Syria', 2], 162: ['Japan', 2], 163: ['United Kingdom', 2], 164: ['Tajikistan', 2], 165: ['Timor-Leste', 2], 166: ['US', 2], 167: ['Uruguay', 2], 168: ['Western Sahara', 2], 169: ['Turkey', 2], 170: ['Zambia', 2], 171: ['Germany', 2], 172: ['Thailand', 2], 173: ['West Bank and Gaza', 2], 174: ['United Arab Emirates', 2], 175: ['Sudan', 2], 176: ['Trinidad and Tobago', 2], 177: ['South Korea', 2], 178: ['Switzerland', 2], 179: ['Yemen', 2], 180: ['Uzbekistan', 2], 181: ['Tunisia', 2], 182: ['Togo', 2], 183: ['Vietnam', 2], 184: ['France', 2], 185: ['Singapore', 3], 186: ['China', 4]}\n"
     ]
    }
   ],
   "source": [
    "clusters_dict={_id: rows[_id] for _id in range(builder.n_vert) }"
>>>>>>> 0e4759a36668d09f016dc3aabd8bb877756b88e1
   ]
  },
  {
   "cell_type": "code",
<<<<<<< HEAD
   "execution_count": 3,
=======
   "execution_count": 1,
>>>>>>> 0e4759a36668d09f016dc3aabd8bb877756b88e1
   "metadata": {},
   "outputs": [
    {
     "data": {
<<<<<<< HEAD
      "text/plain": [
       "2.6666666666666665"
      ]
     },
     "execution_count": 3,
=======
      "text/html": [
       "<div style=\"width:100%;\"><div style=\"position:relative;width:100%;height:0;padding-bottom:60%;\"><span style=\"color:#565656\">Make this Notebook Trusted to load map: File -> Trust Notebook</span><iframe src=\"about:blank\" style=\"position:absolute;width:100%;height:100%;left:0;top:0;border:none !important;\" data-html=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 onload=\"this.contentDocument.open();this.contentDocument.write(atob(this.getAttribute('data-html')));this.contentDocument.close();\" allowfullscreen webkitallowfullscreen mozallowfullscreen></iframe></div></div>"
      ],
      "text/plain": [
       "<folium.folium.Map at 0x1d221c701f0>"
      ]
     },
     "execution_count": 1,
>>>>>>> 0e4759a36668d09f016dc3aabd8bb877756b88e1
     "metadata": {},
     "output_type": "execute_result"
    }
   ],
   "source": [
<<<<<<< HEAD
    "import numpy as np\n",
    "l=np.array([1,3,4])\n",
    "np.mean(l)"
=======
    "import folium\n",
    "\n",
    "loc = 'Corpus Christi'\n",
    "title_html = '''\n",
    "             <h3 align=\"center\" style=\"font-size:16px\"><b>{}</b></h3>\n",
    "             '''.format(loc)   \n",
    "\n",
    "m = folium.Map(location=[27.783889, -97.510556],\n",
    "               zoom_start=12)\n",
    "\n",
    "m.get_root().html.add_child(folium.Element(title_html))\n",
    "\n",
    "m.save('map-with-title.html')\n",
    "m"
>>>>>>> 0e4759a36668d09f016dc3aabd8bb877756b88e1
   ]
  },
  {
   "cell_type": "code",
<<<<<<< HEAD
   "execution_count": 4,
   "metadata": {},
   "outputs": [
    {
     "data": {
      "text/plain": [
       "2"
      ]
     },
     "execution_count": 4,
     "metadata": {},
     "output_type": "execute_result"
    }
   ],
   "source": [
    "np.sum(l>2)"
=======
   "execution_count": 99,
   "metadata": {},
   "outputs": [
    {
     "name": "stdout",
     "output_type": "stream",
     "text": [
      "[{'Azerbaijan', 'Guinea-Bissau', 'Botswana', 'Finland', 'Greenland', 'Colombia', 'Gabon', 'Dominican Republic', 'Canada', \"Cote d'Ivoire\", 'Algeria', 'Equatorial Guinea', 'Comoros', 'Haiti', 'Cameroon', 'Hungary', 'Central African Republic', 'Burma', 'Denmark', 'Ecuador', 'Eritrea', 'Albania', 'Bahamas', 'Barbados', 'Armenia', 'Brazil', 'Argentina', 'Croatia', 'Georgia', 'Grenada', 'Egypt', 'Belarus', 'Antigua and Barbuda', 'Cambodia', 'Belize', 'Chile', 'Bahrain', 'Benin', 'Bangladesh', 'Dominica', 'Eswatini', 'Fiji', 'Brunei', 'Afghanistan', 'Costa Rica', 'Greece', 'Chad', 'Honduras', 'Djibouti', 'Cyprus', 'Austria', 'Gambia', 'Ethiopia', 'Guatemala', 'Bosnia and Herzegovina', 'Guinea', 'Burkina Faso', 'Congo (Brazzaville)', 'Guyana', 'Czechia', 'Cuba', 'Holy See', 'Andorra', 'Estonia', 'Angola', 'Burundi', 'Bulgaria', 'Iceland', 'El Salvador', 'Ghana', 'Belgium', 'Bhutan', 'Congo (Kinshasa)', 'Bolivia', 'Cabo Verde'}, {'Madagascar', 'Qatar', 'Netherlands', 'Slovakia', 'Poland', 'Niger', 'Lithuania', 'Monaco', 'Mauritius', 'Namibia', 'Israel', 'Lesotho', 'Rwanda', 'Liechtenstein', 'Paraguay', 'Nigeria', 'Jamaica', 'Latvia', 'Nicaragua', 'Libya', 'Serbia', 'Portugal', 'Saint Vincent and the Grenadines', 'Maldives', 'South Sudan', 'Moldova', 'Mali', 'Romania', 'Liberia', 'South Africa', 'Malaysia', 'Somalia', 'Saint Kitts and Nevis', 'Philippines', 'Saudi Arabia', 'Sierra Leone', 'Slovenia', 'Sao Tome and Principe', 'Malta', 'New Zealand', 'North Macedonia', 'Mongolia', 'Ireland', 'Peru', 'Iran', 'Indonesia', 'Kenya', 'Montenegro', 'Luxembourg', 'Seychelles', 'Laos', 'Nepal', 'Norway', 'Iraq', 'Oman', 'Panama', 'Russia', 'Senegal', 'Italy', 'Mexico', 'Pakistan', 'Mauritania', 'Kuwait', 'Saint Lucia', 'Malawi', 'Mozambique', 'India', 'Jordan', 'Lebanon', 'Morocco', 'Kazakhstan', 'Kosovo', 'San Marino', 'Kyrgyzstan', 'Papua New Guinea'}, {'Tanzania', 'Sweden', 'Spain', 'Venezuela', 'Taiwan*', 'Zimbabwe', 'Sri Lanka', 'Uganda', 'Ukraine', 'Australia', 'Suriname', 'Syria', 'Japan', 'United Kingdom', 'Tajikistan', 'Timor-Leste', 'US', 'Uruguay', 'Western Sahara', 'Turkey', 'Zambia', 'Germany', 'Thailand', 'West Bank and Gaza', 'United Arab Emirates', 'Sudan', 'Trinidad and Tobago', 'South Korea', 'Switzerland', 'Yemen', 'Uzbekistan', 'Tunisia', 'Togo', 'Vietnam', 'France'}, {'Singapore'}, {'China'}]\n"
     ]
    }
   ],
   "source": [
    "print(clusters)"
>>>>>>> 0e4759a36668d09f016dc3aabd8bb877756b88e1
   ]
  },
  {
   "cell_type": "code",
<<<<<<< HEAD
   "execution_count": 5,
   "metadata": {},
   "outputs": [
    {
     "data": {
      "text/plain": [
       "4"
      ]
     },
     "execution_count": 5,
     "metadata": {},
     "output_type": "execute_result"
    }
   ],
   "source": [
    "l[-1]"
=======
   "execution_count": null,
   "metadata": {},
   "outputs": [],
   "source": [
    "\n",
    "'''\n",
    "\n",
    "\n",
    "def get_continent(col):\n",
    "    try:\n",
    "        cn_a2_code =  country_name_to_country_alpha2(col)\n",
    "    except:\n",
    "        cn_a2_code = 'Unknown' \n",
    "    try:\n",
    "        cn_continent = country_alpha2_to_continent_code(cn_a2_code)\n",
    "    except:\n",
    "        cn_continent = 'Unknown' \n",
    "    return (cn_a2_code, cn_continent)\n",
    "\n",
    "\n",
    "geolocator = Nominatim(user_agent=\"anna_visualization_for_covid\")\n",
    "def geolocate(country):\n",
    "    try:\n",
    "        # Geolocate the center of the country\n",
    "        loc = geolocator.geocode(country)\n",
    "        # And return latitude and longitude\n",
    "        return (loc.latitude, loc.longitude)\n",
    "    except:\n",
    "        # Return missing value\n",
    "        return np.nan\n",
    "\n",
    "df['codes']=df['CountryName'].apply(get_continent)\n",
    "df['Country']=df['codes'].apply(lambda pair: pair[0])\n",
    "df['Continent']=df['codes'].apply(lambda pair: pair[1])\n",
    "\n",
    "# geopandas doesn't work (( SORRY!!!\n",
    "import pyproj\n",
    "pyproj.Proj(\"+init=epsg:4326\")\n",
    "pyproj.pyproj_datadir\n",
    "\n",
    "\n",
    "geo_df=geopandas.read_file(country_shapes)\n",
    "merged_df = geo_df.merge(right=df, right_on='CountryName', left_on='ADMIN', how='left').fillna(np.nan)\n",
    "\n",
    "gdf = geopandas.GeoDataFrame(geo_df, geometry=geo_df['geometry'])\n",
    "gdf.crs = {'init' :'epsg:2154'}\n",
    "gdf = gdf.to_crs({'init' :'epsg:4326'}) \n",
    "\n",
    "\n",
    "#df['Geolocate']=df['Country'].apply(geolocate)\n",
    "#df['latitude']=df['Geolocate'].apply(lambda pair: pair[0])\n",
    "#df['longitude']=df['Geolocate'].apply(lambda pair: pair[1])\n",
    "\n",
    "#Setting up the world countries data URL\n",
    "url = 'https://raw.githubusercontent.com/python-visualization/folium/master/examples/data'\n",
    "\n",
    "\n",
    "country_shapes = f'{url}/world-countries.json'\n",
    "m= folium.Map(tiles=\"cartodbpositron\")\n",
    "folium.Choropleth(\n",
    "    #The GeoJSON data to represent the world country\n",
    "    geo_data=country_shapes,\n",
    "    name='choropleth COVID-19',\n",
    "    data=df,\n",
    "    #The column aceppting list with 2 value; The country name and  the numerical value\n",
    "    columns=['CountryName', 'Cluster'],\n",
    "    key_on='feature.properties.name',\n",
    "    fill_color='YlOrRd',\n",
    "    nan_fill_color='grey'\n",
    ").add_to(m)\n",
    "m.save('covid.html')\n",
    "\n",
    "\n",
    "#empty map\n",
    "world_map= folium.Map(tiles=\"cartodbpositron\")\n",
    "marker_cluster = MarkerCluster().add_to(world_map)\n",
    "#for each coordinate, create circlemarker of user percent\n",
    "for i in range(len(df)):\n",
    "        #lat = df.iloc[i]['Geolocate'][0]\n",
    "        #long = df.iloc[i]['Geolocate'][1]\n",
    "        radius=8\n",
    "        popup_text = \"\"\"Country : {}<br>\n",
    "                    %of Cluster : {}<br>\"\"\"\n",
    "        popup_text = popup_text.format(df.iloc[i]['Country'],\n",
    "                                   df.iloc[i]['Cluster']\n",
    "                                   )\n",
    "        folium.CircleMarker(location = list(df.iloc[i]['Geolocate']), radius=radius, popup= popup_text, fill =True).add_to(marker_cluster)\n",
    "#show the map\n",
    "world_map.save('my_map.html')\n",
    "\n",
    "\n",
    "#Setting up the world countries data URL\n",
    "url = 'https://raw.githubusercontent.com/python-visualization/folium/master/examples/data'\n",
    "\n",
    "\n",
    "country_shapes = f'{url}/world-countries.json'\n",
    "m= folium.Map(tiles=\"cartodbpositron\")\n",
    "folium.Choropleth(\n",
    "    #The GeoJSON data to represent the world country\n",
    "    geo_data=country_shapes,\n",
    "    name='choropleth COVID-19',\n",
    "    data=df,\n",
    "    #The column aceppting list with 2 value; The country name and  the numerical value\n",
    "    columns=['CountryName', 'Cluster'],\n",
    "    key_on='feature.properties.name',\n",
    "    fill_color='PuRd',\n",
    "    nan_fill_color='white'\n",
    ").add_to(m)\n",
    "m.save('covid.html')\n",
    "\n",
    "\n",
    "'''"
>>>>>>> 0e4759a36668d09f016dc3aabd8bb877756b88e1
   ]
  },
  {
   "cell_type": "code",
   "execution_count": null,
   "metadata": {},
   "outputs": [],
   "source": []
<<<<<<< HEAD
=======
  },
  {
   "cell_type": "code",
   "execution_count": null,
   "metadata": {},
   "outputs": [],
   "source": []
>>>>>>> 0e4759a36668d09f016dc3aabd8bb877756b88e1
  }
 ],
 "metadata": {
  "kernelspec": {
   "display_name": "Python 3",
   "language": "python",
   "name": "python3"
  },
  "language_info": {
   "codemirror_mode": {
    "name": "ipython",
    "version": 3
   },
   "file_extension": ".py",
   "mimetype": "text/x-python",
   "name": "python",
   "nbconvert_exporter": "python",
   "pygments_lexer": "ipython3",
   "version": "3.8.3"
  }
 },
 "nbformat": 4,
 "nbformat_minor": 4
}
