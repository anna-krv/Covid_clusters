{
 "cells": [
  {
   "cell_type": "code",
   "execution_count": 1,
   "metadata": {},
   "outputs": [],
   "source": [
    "import branca\n",
    "import clusters_builder\n",
    "from geopy.geocoders import Nominatim\n",
    "import folium\n",
    "from folium.plugins import MarkerCluster\n",
    "import importlib\n",
    "import json\n",
    "import numpy as np\n",
    "import pandas as pd\n",
    "from pycountry_convert import country_alpha2_to_continent_code, country_name_to_country_alpha2\n",
    "import requests\n",
    "import selenium.webdriver"
   ]
  },
  {
   "cell_type": "code",
   "execution_count": 2,
   "metadata": {},
   "outputs": [],
   "source": [
    "def validate_country_name(df, col_name):\n",
    "    # according to https://raw.githubusercontent.com/python-visualization/folium/master/examples/data/world-countries.json\n",
    "    df.loc[df[col_name]=='US',col_name]='United States of America'\n",
    "    df.loc[df[col_name]=='Congo (Kinshasa)',col_name]='Republic of the Congo'\n",
    "    df.loc[df[col_name]=='Congo (Brazzaville)',col_name]='Democratic Republic of the Congo'\n",
    "    df.loc[df[col_name]=='Serbia',col_name]='Republic of Serbia'\n",
    "    df.loc[df[col_name]=='Czechia',col_name]='Czech Republic'\n",
    "    df.loc[df[col_name]=='Taiwan*',col_name]='Taiwan'\n",
    "    df.loc[df[col_name]=='North Macedonia',col_name]='Macedonia'"
   ]
  },
  {
   "cell_type": "code",
   "execution_count": 3,
   "metadata": {},
   "outputs": [],
   "source": [
    "def my_color_function(feature, df_dict, colorscale):\n",
    "    if not feature['properties']['ADMIN']  in df_dict:\n",
    "        return '#ffffff'\n",
    "    return colorscale(df_dict[feature['properties']['ADMIN']])"
   ]
  },
  {
   "cell_type": "code",
   "execution_count": 4,
   "metadata": {},
   "outputs": [],
   "source": [
    "def create_colorscale(n):\n",
    "    colorscale=branca.colormap.linear.YlOrRd_09.scale(0,n)\n",
    "    colorscale=colorscale.to_step(n)\n",
    "    colorscale.caption='Cluster id'\n",
    "    return colorscale"
   ]
  },
  {
   "cell_type": "code",
   "execution_count": 5,
   "metadata": {},
   "outputs": [],
   "source": [
    "def get_geo_json(clean_data):\n",
    "    country_shapes='https://raw.githubusercontent.com/datasets/geo-countries/master/data/countries.geojson'\n",
    "    geo_json=json.loads(requests.get(country_shapes).text)\n",
    "    for i in range(len(geo_json['features'])):\n",
    "        name=geo_json['features'][i]['properties']['ADMIN']\n",
    "        for column_name in ['New cases', 'New deaths', 'New recovered']:\n",
    "            geo_json['features'][i]['properties'][column_name]=0\n",
    "            if name in clean_data['Country/Region'].values:\n",
    "                geo_json['features'][i]['properties'][column_name]=\\\n",
    "                int(clean_data[clean_data['Country/Region']==name][column_name].values[0])\n",
    "        \n",
    "    return geo_json"
   ]
  },
  {
   "cell_type": "code",
   "execution_count": 6,
   "metadata": {},
   "outputs": [],
   "source": [
    "def create_map(geo_json,df_dict, n, date):\n",
    "    colorscale=create_colorscale(n)\n",
    "    m=folium.Map(tiles=\"cartodbpositron\", zoom_start=2,location=[40., 10.],zoom_control=False, max_bounds=True)\n",
    "    folium.GeoJson(\n",
    "        geo_json,\n",
    "        style_function=lambda feature: {\n",
    "            'fillColor': my_color_function(feature, df_dict, colorscale),\n",
    "            'fillOpacity': 0.9,\n",
    "            'color' : 'black',\n",
    "            'weight' : 1,\n",
    "            'dashArray' : '1,1'\n",
    "            },\n",
    "        name='COVID CLUSTERS',\n",
    "        tooltip=folium.features.GeoJsonTooltip(\n",
    "            fields=['ADMIN', 'New cases', 'New deaths', 'New recovered'],\n",
    "            aliases=['Country', 'New cases', 'New deaths', 'New recovered'])\n",
    "        ).add_to(m)\n",
    "    m.add_child(colorscale)\n",
    "    \n",
    "    \n",
    "    title_html = '''\n",
    "                 <h3 align=\"center\" style=\"font-size:12px\"><b>{}</b></h3>\n",
    "                 '''.format(date)   \n",
    "    m.get_root().html.add_child(folium.Element(title_html))\n",
    "    \n",
    "    m.save('covid.html')"
   ]
  },
  {
   "cell_type": "code",
   "execution_count": 7,
   "metadata": {},
   "outputs": [],
   "source": [
    "def save_as_png(date):\n",
    "    driver = selenium.webdriver.Chrome()\n",
    "    driver.get(\"file:///C:/Users/DELL/Covid_clusters/covid.html\")\n",
    "    driver.save_screenshot('pictures.v2/'+date+'.png')\n",
    "    driver.quit()"
   ]
  },
  {
   "cell_type": "code",
   "execution_count": 8,
   "metadata": {},
   "outputs": [],
   "source": [
    "def save_map(builder,date, n):\n",
    "    clusters=builder.get_clusters(date)\n",
    "    print([len(x) for x in clusters])\n",
    "    clean_data=builder.data_all_days.loc[builder.data_all_days['Date']==date].copy()\n",
    "    \n",
    "    rows=[[country,i] for i in range(n) for country in clusters[i]]\n",
    "    clusters_dict={_id: rows[_id] for _id in range(builder.n_vert) }\n",
    "    \n",
    "    df=pd.DataFrame.from_dict(clusters_dict,orient='index', columns=['CountryName', 'Cluster'])\n",
    "\n",
    "    validate_country_name(df,'CountryName')\n",
    "    validate_country_name(clean_data, 'Country/Region')\n",
    "    df_dict=df.set_index('CountryName')['Cluster']\n",
    "    geo_json=get_geo_json(clean_data)\n",
    "    create_map(geo_json, df_dict, n, date)\n",
    "    save_as_png(date)"
   ]
  },
  {
   "cell_type": "code",
   "execution_count": 9,
   "metadata": {
    "scrolled": true
   },
   "outputs": [
    {
     "name": "stdout",
     "output_type": "stream",
     "text": [
      "[180, 4, 1, 1, 1]\n",
      "2020-01-22\n",
      "[3, 180, 2, 1, 1]\n",
      "2020-01-23\n",
      "[180, 1, 1, 4, 1]\n",
      "2020-01-24\n",
      "[180, 2, 3, 1, 1]\n",
      "2020-01-25\n",
      "[182, 1, 1, 2, 1]\n",
      "2020-01-26\n",
      "[179, 1, 1, 5, 1]\n",
      "2020-01-27\n",
      "[181, 1, 3, 1, 1]\n",
      "2020-01-28\n",
      "[180, 1, 3, 2, 1]\n",
      "2020-01-29\n",
      "[183, 1, 1, 1, 1]\n",
      "2020-01-30\n",
      "[183, 1, 1, 1, 1]\n",
      "2020-01-31\n",
      "[181, 3, 1, 1, 1]\n",
      "2020-02-01\n",
      "[180, 1, 4, 1, 1]\n",
      "2020-02-02\n",
      "[180, 2, 3, 1, 1]\n",
      "2020-02-03\n",
      "[178, 4, 2, 2, 1]\n",
      "2020-02-04\n",
      "[180, 4, 1, 1, 1]\n",
      "2020-02-05\n",
      "[180, 4, 1, 1, 1]\n",
      "2020-02-06\n",
      "[1, 182, 1, 2, 1]\n",
      "2020-02-07\n",
      "[1, 183, 1, 1, 1]\n",
      "2020-02-08\n",
      "[1, 183, 1, 1, 1]\n",
      "2020-02-09\n",
      "[180, 4, 1, 1, 1]\n",
      "2020-02-10\n",
      "[1, 182, 2, 1, 1]\n",
      "2020-02-11\n",
      "[1, 176, 8, 1, 1]\n",
      "2020-02-12\n",
      "[1, 180, 4, 1, 1]\n",
      "2020-02-13\n",
      "[180, 4, 1, 1, 1]\n",
      "2020-02-14\n",
      "[182, 1, 2, 1, 1]\n",
      "2020-02-15\n",
      "[1, 180, 1, 4, 1]\n",
      "2020-02-16\n",
      "[180, 4, 1, 1, 1]\n",
      "2020-02-17\n",
      "[180, 1, 4, 1, 1]\n",
      "2020-02-18\n",
      "[180, 4, 1, 1, 1]\n",
      "2020-02-19\n",
      "[180, 4, 1, 1, 1]\n",
      "2020-02-20\n",
      "[180, 3, 1, 2, 1]\n",
      "2020-02-21\n",
      "[180, 4, 1, 1, 1]\n",
      "2020-02-22\n",
      "[180, 1, 1, 4, 1]\n",
      "2020-02-23\n",
      "[182, 2, 1, 1, 1]\n",
      "2020-02-24\n",
      "[180, 4, 1, 1, 1]\n",
      "2020-02-25\n",
      "[180, 4, 1, 1, 1]\n",
      "2020-02-26\n",
      "[182, 1, 2, 1, 1]\n",
      "2020-02-27\n",
      "[182, 1, 2, 1, 1]\n",
      "2020-02-28\n",
      "[181, 2, 2, 1, 1]\n",
      "2020-02-29\n",
      "[2, 181, 1, 1, 2]\n",
      "2020-03-01\n",
      "[181, 2, 1, 1, 2]\n",
      "2020-03-02\n",
      "[183, 1, 1, 1, 1]\n",
      "2020-03-03\n",
      "[182, 1, 1, 2, 1]\n",
      "2020-03-04\n",
      "[180, 1, 4, 1, 1]\n",
      "2020-03-05\n",
      "[180, 1, 4, 1, 1]\n",
      "2020-03-06\n",
      "[180, 1, 4, 1, 1]\n",
      "2020-03-07\n",
      "[180, 1, 4, 1, 1]\n",
      "2020-03-08\n",
      "[180, 1, 4, 1, 1]\n",
      "2020-03-09\n",
      "[181, 1, 3, 1, 1]\n",
      "2020-03-10\n",
      "[183, 1, 1, 1, 1]\n",
      "2020-03-11\n",
      "[181, 1, 3, 1, 1]\n",
      "2020-03-12\n",
      "[1, 180, 4, 1, 1]\n",
      "2020-03-13\n",
      "[180, 1, 3, 2, 1]\n",
      "2020-03-14\n"
     ]
    }
   ],
   "source": [
    "importlib.reload(clusters_builder)\n",
    "n=5\n",
    "builder=clusters_builder.Clusters_Builder(n_clusters=n)\n",
    "dates=sorted(list(set(builder.data_all_days['Date'].values)))\n",
    "for date in dates:\n",
    "    #if date<'2020-03-15':\n",
    "     #   continue\n",
    "    save_map(builder, date, n)\n",
    "    print(date)\n",
    "    if date>='2020-03-14':\n",
    "        break"
   ]
  },
  {
   "cell_type": "markdown",
   "metadata": {},
   "source": [
    "# TESTING"
   ]
  },
  {
   "cell_type": "code",
   "execution_count": 91,
   "metadata": {},
   "outputs": [
    {
     "name": "stdout",
     "output_type": "stream",
     "text": [
      "187\n",
      "built edge list\n",
      "have clusters\n"
     ]
    }
   ],
   "source": [
    "clusters=builder.get_clusters('2020-02-01')"
   ]
  },
  {
   "cell_type": "code",
   "execution_count": 97,
   "metadata": {},
   "outputs": [],
   "source": [
    "date='2020-02-01'\n",
    "clean_data=builder.data_all_days.loc[builder.data_all_days['Date']==date].copy()\n",
    "clusters=sorted(clusters, key=lambda my_set: clean_data[clean_data['Country/Region'].isin(my_set)]['New cases'].mean())"
   ]
  },
  {
   "cell_type": "code",
   "execution_count": 101,
   "metadata": {},
   "outputs": [
    {
     "name": "stdout",
     "output_type": "stream",
     "text": [
      "{0: ['Azerbaijan', 0], 1: ['Guinea-Bissau', 0], 2: ['Botswana', 0], 3: ['Finland', 0], 4: ['Greenland', 0], 5: ['Colombia', 0], 6: ['Gabon', 0], 7: ['Dominican Republic', 0], 8: ['Canada', 0], 9: [\"Cote d'Ivoire\", 0], 10: ['Algeria', 0], 11: ['Equatorial Guinea', 0], 12: ['Comoros', 0], 13: ['Haiti', 0], 14: ['Cameroon', 0], 15: ['Hungary', 0], 16: ['Central African Republic', 0], 17: ['Burma', 0], 18: ['Denmark', 0], 19: ['Ecuador', 0], 20: ['Eritrea', 0], 21: ['Albania', 0], 22: ['Bahamas', 0], 23: ['Barbados', 0], 24: ['Armenia', 0], 25: ['Brazil', 0], 26: ['Argentina', 0], 27: ['Croatia', 0], 28: ['Georgia', 0], 29: ['Grenada', 0], 30: ['Egypt', 0], 31: ['Belarus', 0], 32: ['Antigua and Barbuda', 0], 33: ['Cambodia', 0], 34: ['Belize', 0], 35: ['Chile', 0], 36: ['Bahrain', 0], 37: ['Benin', 0], 38: ['Bangladesh', 0], 39: ['Dominica', 0], 40: ['Eswatini', 0], 41: ['Fiji', 0], 42: ['Brunei', 0], 43: ['Afghanistan', 0], 44: ['Costa Rica', 0], 45: ['Greece', 0], 46: ['Chad', 0], 47: ['Honduras', 0], 48: ['Djibouti', 0], 49: ['Cyprus', 0], 50: ['Austria', 0], 51: ['Gambia', 0], 52: ['Ethiopia', 0], 53: ['Guatemala', 0], 54: ['Bosnia and Herzegovina', 0], 55: ['Guinea', 0], 56: ['Burkina Faso', 0], 57: ['Congo (Brazzaville)', 0], 58: ['Guyana', 0], 59: ['Czechia', 0], 60: ['Cuba', 0], 61: ['Holy See', 0], 62: ['Andorra', 0], 63: ['Estonia', 0], 64: ['Angola', 0], 65: ['Burundi', 0], 66: ['Bulgaria', 0], 67: ['Iceland', 0], 68: ['El Salvador', 0], 69: ['Ghana', 0], 70: ['Belgium', 0], 71: ['Bhutan', 0], 72: ['Congo (Kinshasa)', 0], 73: ['Bolivia', 0], 74: ['Cabo Verde', 0], 75: ['Madagascar', 1], 76: ['Qatar', 1], 77: ['Netherlands', 1], 78: ['Slovakia', 1], 79: ['Poland', 1], 80: ['Niger', 1], 81: ['Lithuania', 1], 82: ['Monaco', 1], 83: ['Mauritius', 1], 84: ['Namibia', 1], 85: ['Israel', 1], 86: ['Lesotho', 1], 87: ['Rwanda', 1], 88: ['Liechtenstein', 1], 89: ['Paraguay', 1], 90: ['Nigeria', 1], 91: ['Jamaica', 1], 92: ['Latvia', 1], 93: ['Nicaragua', 1], 94: ['Libya', 1], 95: ['Serbia', 1], 96: ['Portugal', 1], 97: ['Saint Vincent and the Grenadines', 1], 98: ['Maldives', 1], 99: ['South Sudan', 1], 100: ['Moldova', 1], 101: ['Mali', 1], 102: ['Romania', 1], 103: ['Liberia', 1], 104: ['South Africa', 1], 105: ['Malaysia', 1], 106: ['Somalia', 1], 107: ['Saint Kitts and Nevis', 1], 108: ['Philippines', 1], 109: ['Saudi Arabia', 1], 110: ['Sierra Leone', 1], 111: ['Slovenia', 1], 112: ['Sao Tome and Principe', 1], 113: ['Malta', 1], 114: ['New Zealand', 1], 115: ['North Macedonia', 1], 116: ['Mongolia', 1], 117: ['Ireland', 1], 118: ['Peru', 1], 119: ['Iran', 1], 120: ['Indonesia', 1], 121: ['Kenya', 1], 122: ['Montenegro', 1], 123: ['Luxembourg', 1], 124: ['Seychelles', 1], 125: ['Laos', 1], 126: ['Nepal', 1], 127: ['Norway', 1], 128: ['Iraq', 1], 129: ['Oman', 1], 130: ['Panama', 1], 131: ['Russia', 1], 132: ['Senegal', 1], 133: ['Italy', 1], 134: ['Mexico', 1], 135: ['Pakistan', 1], 136: ['Mauritania', 1], 137: ['Kuwait', 1], 138: ['Saint Lucia', 1], 139: ['Malawi', 1], 140: ['Mozambique', 1], 141: ['India', 1], 142: ['Jordan', 1], 143: ['Lebanon', 1], 144: ['Morocco', 1], 145: ['Kazakhstan', 1], 146: ['Kosovo', 1], 147: ['San Marino', 1], 148: ['Kyrgyzstan', 1], 149: ['Papua New Guinea', 1], 150: ['Tanzania', 2], 151: ['Sweden', 2], 152: ['Spain', 2], 153: ['Venezuela', 2], 154: ['Taiwan*', 2], 155: ['Zimbabwe', 2], 156: ['Sri Lanka', 2], 157: ['Uganda', 2], 158: ['Ukraine', 2], 159: ['Australia', 2], 160: ['Suriname', 2], 161: ['Syria', 2], 162: ['Japan', 2], 163: ['United Kingdom', 2], 164: ['Tajikistan', 2], 165: ['Timor-Leste', 2], 166: ['US', 2], 167: ['Uruguay', 2], 168: ['Western Sahara', 2], 169: ['Turkey', 2], 170: ['Zambia', 2], 171: ['Germany', 2], 172: ['Thailand', 2], 173: ['West Bank and Gaza', 2], 174: ['United Arab Emirates', 2], 175: ['Sudan', 2], 176: ['Trinidad and Tobago', 2], 177: ['South Korea', 2], 178: ['Switzerland', 2], 179: ['Yemen', 2], 180: ['Uzbekistan', 2], 181: ['Tunisia', 2], 182: ['Togo', 2], 183: ['Vietnam', 2], 184: ['France', 2], 185: ['Singapore', 3], 186: ['China', 4]}\n"
     ]
    }
   ],
   "source": [
    "clusters_dict={_id: rows[_id] for _id in range(builder.n_vert) }"
   ]
  },
  {
   "cell_type": "code",
   "execution_count": 1,
   "metadata": {},
   "outputs": [
    {
     "data": {
      "text/html": [
       "<div style=\"width:100%;\"><div style=\"position:relative;width:100%;height:0;padding-bottom:60%;\"><span style=\"color:#565656\">Make this Notebook Trusted to load map: File -> Trust Notebook</span><iframe src=\"about:blank\" style=\"position:absolute;width:100%;height:100%;left:0;top:0;border:none !important;\" data-html=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 onload=\"this.contentDocument.open();this.contentDocument.write(atob(this.getAttribute('data-html')));this.contentDocument.close();\" allowfullscreen webkitallowfullscreen mozallowfullscreen></iframe></div></div>"
      ],
      "text/plain": [
       "<folium.folium.Map at 0x1d221c701f0>"
      ]
     },
     "execution_count": 1,
     "metadata": {},
     "output_type": "execute_result"
    }
   ],
   "source": [
    "import folium\n",
    "\n",
    "loc = 'Corpus Christi'\n",
    "title_html = '''\n",
    "             <h3 align=\"center\" style=\"font-size:16px\"><b>{}</b></h3>\n",
    "             '''.format(loc)   \n",
    "\n",
    "m = folium.Map(location=[27.783889, -97.510556],\n",
    "               zoom_start=12)\n",
    "\n",
    "m.get_root().html.add_child(folium.Element(title_html))\n",
    "\n",
    "m.save('map-with-title.html')\n",
    "m"
   ]
  },
  {
   "cell_type": "code",
   "execution_count": 99,
   "metadata": {},
   "outputs": [
    {
     "name": "stdout",
     "output_type": "stream",
     "text": [
      "[{'Azerbaijan', 'Guinea-Bissau', 'Botswana', 'Finland', 'Greenland', 'Colombia', 'Gabon', 'Dominican Republic', 'Canada', \"Cote d'Ivoire\", 'Algeria', 'Equatorial Guinea', 'Comoros', 'Haiti', 'Cameroon', 'Hungary', 'Central African Republic', 'Burma', 'Denmark', 'Ecuador', 'Eritrea', 'Albania', 'Bahamas', 'Barbados', 'Armenia', 'Brazil', 'Argentina', 'Croatia', 'Georgia', 'Grenada', 'Egypt', 'Belarus', 'Antigua and Barbuda', 'Cambodia', 'Belize', 'Chile', 'Bahrain', 'Benin', 'Bangladesh', 'Dominica', 'Eswatini', 'Fiji', 'Brunei', 'Afghanistan', 'Costa Rica', 'Greece', 'Chad', 'Honduras', 'Djibouti', 'Cyprus', 'Austria', 'Gambia', 'Ethiopia', 'Guatemala', 'Bosnia and Herzegovina', 'Guinea', 'Burkina Faso', 'Congo (Brazzaville)', 'Guyana', 'Czechia', 'Cuba', 'Holy See', 'Andorra', 'Estonia', 'Angola', 'Burundi', 'Bulgaria', 'Iceland', 'El Salvador', 'Ghana', 'Belgium', 'Bhutan', 'Congo (Kinshasa)', 'Bolivia', 'Cabo Verde'}, {'Madagascar', 'Qatar', 'Netherlands', 'Slovakia', 'Poland', 'Niger', 'Lithuania', 'Monaco', 'Mauritius', 'Namibia', 'Israel', 'Lesotho', 'Rwanda', 'Liechtenstein', 'Paraguay', 'Nigeria', 'Jamaica', 'Latvia', 'Nicaragua', 'Libya', 'Serbia', 'Portugal', 'Saint Vincent and the Grenadines', 'Maldives', 'South Sudan', 'Moldova', 'Mali', 'Romania', 'Liberia', 'South Africa', 'Malaysia', 'Somalia', 'Saint Kitts and Nevis', 'Philippines', 'Saudi Arabia', 'Sierra Leone', 'Slovenia', 'Sao Tome and Principe', 'Malta', 'New Zealand', 'North Macedonia', 'Mongolia', 'Ireland', 'Peru', 'Iran', 'Indonesia', 'Kenya', 'Montenegro', 'Luxembourg', 'Seychelles', 'Laos', 'Nepal', 'Norway', 'Iraq', 'Oman', 'Panama', 'Russia', 'Senegal', 'Italy', 'Mexico', 'Pakistan', 'Mauritania', 'Kuwait', 'Saint Lucia', 'Malawi', 'Mozambique', 'India', 'Jordan', 'Lebanon', 'Morocco', 'Kazakhstan', 'Kosovo', 'San Marino', 'Kyrgyzstan', 'Papua New Guinea'}, {'Tanzania', 'Sweden', 'Spain', 'Venezuela', 'Taiwan*', 'Zimbabwe', 'Sri Lanka', 'Uganda', 'Ukraine', 'Australia', 'Suriname', 'Syria', 'Japan', 'United Kingdom', 'Tajikistan', 'Timor-Leste', 'US', 'Uruguay', 'Western Sahara', 'Turkey', 'Zambia', 'Germany', 'Thailand', 'West Bank and Gaza', 'United Arab Emirates', 'Sudan', 'Trinidad and Tobago', 'South Korea', 'Switzerland', 'Yemen', 'Uzbekistan', 'Tunisia', 'Togo', 'Vietnam', 'France'}, {'Singapore'}, {'China'}]\n"
     ]
    }
   ],
   "source": [
    "print(clusters)"
   ]
  },
  {
   "cell_type": "code",
   "execution_count": null,
   "metadata": {},
   "outputs": [],
   "source": [
    "\n",
    "'''\n",
    "\n",
    "\n",
    "def get_continent(col):\n",
    "    try:\n",
    "        cn_a2_code =  country_name_to_country_alpha2(col)\n",
    "    except:\n",
    "        cn_a2_code = 'Unknown' \n",
    "    try:\n",
    "        cn_continent = country_alpha2_to_continent_code(cn_a2_code)\n",
    "    except:\n",
    "        cn_continent = 'Unknown' \n",
    "    return (cn_a2_code, cn_continent)\n",
    "\n",
    "\n",
    "geolocator = Nominatim(user_agent=\"anna_visualization_for_covid\")\n",
    "def geolocate(country):\n",
    "    try:\n",
    "        # Geolocate the center of the country\n",
    "        loc = geolocator.geocode(country)\n",
    "        # And return latitude and longitude\n",
    "        return (loc.latitude, loc.longitude)\n",
    "    except:\n",
    "        # Return missing value\n",
    "        return np.nan\n",
    "\n",
    "df['codes']=df['CountryName'].apply(get_continent)\n",
    "df['Country']=df['codes'].apply(lambda pair: pair[0])\n",
    "df['Continent']=df['codes'].apply(lambda pair: pair[1])\n",
    "\n",
    "# geopandas doesn't work (( SORRY!!!\n",
    "import pyproj\n",
    "pyproj.Proj(\"+init=epsg:4326\")\n",
    "pyproj.pyproj_datadir\n",
    "\n",
    "\n",
    "geo_df=geopandas.read_file(country_shapes)\n",
    "merged_df = geo_df.merge(right=df, right_on='CountryName', left_on='ADMIN', how='left').fillna(np.nan)\n",
    "\n",
    "gdf = geopandas.GeoDataFrame(geo_df, geometry=geo_df['geometry'])\n",
    "gdf.crs = {'init' :'epsg:2154'}\n",
    "gdf = gdf.to_crs({'init' :'epsg:4326'}) \n",
    "\n",
    "\n",
    "#df['Geolocate']=df['Country'].apply(geolocate)\n",
    "#df['latitude']=df['Geolocate'].apply(lambda pair: pair[0])\n",
    "#df['longitude']=df['Geolocate'].apply(lambda pair: pair[1])\n",
    "\n",
    "#Setting up the world countries data URL\n",
    "url = 'https://raw.githubusercontent.com/python-visualization/folium/master/examples/data'\n",
    "\n",
    "\n",
    "country_shapes = f'{url}/world-countries.json'\n",
    "m= folium.Map(tiles=\"cartodbpositron\")\n",
    "folium.Choropleth(\n",
    "    #The GeoJSON data to represent the world country\n",
    "    geo_data=country_shapes,\n",
    "    name='choropleth COVID-19',\n",
    "    data=df,\n",
    "    #The column aceppting list with 2 value; The country name and  the numerical value\n",
    "    columns=['CountryName', 'Cluster'],\n",
    "    key_on='feature.properties.name',\n",
    "    fill_color='YlOrRd',\n",
    "    nan_fill_color='grey'\n",
    ").add_to(m)\n",
    "m.save('covid.html')\n",
    "\n",
    "\n",
    "#empty map\n",
    "world_map= folium.Map(tiles=\"cartodbpositron\")\n",
    "marker_cluster = MarkerCluster().add_to(world_map)\n",
    "#for each coordinate, create circlemarker of user percent\n",
    "for i in range(len(df)):\n",
    "        #lat = df.iloc[i]['Geolocate'][0]\n",
    "        #long = df.iloc[i]['Geolocate'][1]\n",
    "        radius=8\n",
    "        popup_text = \"\"\"Country : {}<br>\n",
    "                    %of Cluster : {}<br>\"\"\"\n",
    "        popup_text = popup_text.format(df.iloc[i]['Country'],\n",
    "                                   df.iloc[i]['Cluster']\n",
    "                                   )\n",
    "        folium.CircleMarker(location = list(df.iloc[i]['Geolocate']), radius=radius, popup= popup_text, fill =True).add_to(marker_cluster)\n",
    "#show the map\n",
    "world_map.save('my_map.html')\n",
    "\n",
    "\n",
    "#Setting up the world countries data URL\n",
    "url = 'https://raw.githubusercontent.com/python-visualization/folium/master/examples/data'\n",
    "\n",
    "\n",
    "country_shapes = f'{url}/world-countries.json'\n",
    "m= folium.Map(tiles=\"cartodbpositron\")\n",
    "folium.Choropleth(\n",
    "    #The GeoJSON data to represent the world country\n",
    "    geo_data=country_shapes,\n",
    "    name='choropleth COVID-19',\n",
    "    data=df,\n",
    "    #The column aceppting list with 2 value; The country name and  the numerical value\n",
    "    columns=['CountryName', 'Cluster'],\n",
    "    key_on='feature.properties.name',\n",
    "    fill_color='PuRd',\n",
    "    nan_fill_color='white'\n",
    ").add_to(m)\n",
    "m.save('covid.html')\n",
    "\n",
    "\n",
    "'''"
   ]
  },
  {
   "cell_type": "code",
   "execution_count": null,
   "metadata": {},
   "outputs": [],
   "source": []
  },
  {
   "cell_type": "code",
   "execution_count": null,
   "metadata": {},
   "outputs": [],
   "source": []
  }
 ],
 "metadata": {
  "kernelspec": {
   "display_name": "Python 3",
   "language": "python",
   "name": "python3"
  },
  "language_info": {
   "codemirror_mode": {
    "name": "ipython",
    "version": 3
   },
   "file_extension": ".py",
   "mimetype": "text/x-python",
   "name": "python",
   "nbconvert_exporter": "python",
   "pygments_lexer": "ipython3",
   "version": "3.8.3"
  }
 },
 "nbformat": 4,
 "nbformat_minor": 4
}
